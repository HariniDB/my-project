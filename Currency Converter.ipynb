{
 "cells": [
  {
   "cell_type": "code",
   "execution_count": null,
   "metadata": {},
   "outputs": [],
   "source": [
    "# Taking SLRupee input from the user\n",
    "SLRupees = float(input(\"Enter value in Sri Lankan Rupees: \"))\n",
    "\n",
    "# Taking currency input from the user\n",
    "ConvertTo = input(\"Enter the type of currency: \")\n",
    "\n",
    "# convert currency\n",
    "if ConvertTo==\"IndianRupee\":\n",
    "    conv_fac=SLRupees*0.40\n",
    "    print('%0.2f Rupees is equal to %0.2f Indian Rupees' %(SLRupees,conv_fac))\n",
    "elif ConvertTo==\"USDollar\":\n",
    "    conv_fac=SLRupees*0.0054\n",
    "    print('%0.2f Rupees is equal to %0.2f US Dollars' %(SLRupees,conv_fac))\n",
    "elif ConvertTo==\"Pound\":\n",
    "    conv_fac=SLRupees*0.0042\n",
    "    print('%0.2f Rupees is equal to %0.2f Pounds' %(SLRupees,conv_fac))"
   ]
  }
 ],
 "metadata": {
  "kernelspec": {
   "display_name": "Python 3",
   "language": "python",
   "name": "python3"
  },
  "language_info": {
   "codemirror_mode": {
    "name": "ipython",
    "version": 3
   },
   "file_extension": ".py",
   "mimetype": "text/x-python",
   "name": "python",
   "nbconvert_exporter": "python",
   "pygments_lexer": "ipython3",
   "version": "3.7.4"
  }
 },
 "nbformat": 4,
 "nbformat_minor": 2
}
