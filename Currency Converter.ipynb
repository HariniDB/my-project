{
 "cells": [
  {
   "cell_type": "code",
   "execution_count": 1,
   "metadata": {},
   "outputs": [
    {
     "name": "stdout",
     "output_type": "stream",
     "text": [
      "Enter value in Sri Lankan Rupees: 7\n",
      "Enter the type of currency: IndianRupee\n",
      "7.00 Rupees is equal to 2.80 Indian Rupees\n"
     ]
    }
   ],
   "source": [
    "# Taking SLRupee input from the user\n",
    "SLRupees = float(input(\"Enter value in Sri Lankan Rupees: \"))\n",
    "\n",
    "# Taking currency input from the user\n",
    "ConvertTo = input(\"Enter the type of currency: \")\n",
    "\n",
    "# convert currency\n",
    "if ConvertTo==\"IndianRupee\":\n",
    "    conv_fac=SLRupees*0.40\n",
    "    print('%0.2f Rupees is equal to %0.2f Indian Rupees' %(SLRupees,conv_fac))\n",
    "elif ConvertTo==\"USDollar\":\n",
    "    conv_fac=SLRupees*0.0054\n",
    "    print('%0.2f Rupees is equal to %0.2f US Dollars' %(SLRupees,conv_fac))\n",
    "elif ConvertTo==\"Pound\":\n",
    "    conv_fac=SLRupees*0.0042\n",
    "    print('%0.2f Rupees is equal to %0.2f Pounds' %(SLRupees,conv_fac))\n",
    "elif ConvertTo==\"Dirham\":\n",
    "    conv_fac=SLRupees*0.020\n",
    "    print('%0.2f Rupees is equal to %0.2f Dirham' %(SLRupees,conv_fac))\n",
    "else:\n",
    "    print (\"Invalid Currency input\")"
   ]
  },
  {
   "cell_type": "code",
   "execution_count": null,
   "metadata": {},
   "outputs": [],
   "source": []
  }
 ],
 "metadata": {
  "kernelspec": {
   "display_name": "Python 3",
   "language": "python",
   "name": "python3"
  },
  "language_info": {
   "codemirror_mode": {
    "name": "ipython",
    "version": 3
   },
   "file_extension": ".py",
   "mimetype": "text/x-python",
   "name": "python",
   "nbconvert_exporter": "python",
   "pygments_lexer": "ipython3",
   "version": "3.7.6"
  }
 },
 "nbformat": 4,
 "nbformat_minor": 2
}
